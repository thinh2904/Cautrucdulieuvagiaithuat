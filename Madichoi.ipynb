{
  "nbformat": 4,
  "nbformat_minor": 0,
  "metadata": {
    "colab": {
      "name": "Madichoi.ipynb",
      "provenance": []
    },
    "kernelspec": {
      "name": "python3",
      "display_name": "Python 3"
    }
  },
  "cells": [
    {
      "cell_type": "code",
      "metadata": {
        "id": "kFXK2d0nD-q5",
        "colab": {
          "base_uri": "https://localhost:8080/"
        },
        "outputId": "13fc7e0d-56b9-4ad5-93b1-49c2cc2df1b7"
      },
      "source": [
        "n = int(input('Ti le n ='))\r\n",
        " \r\n",
        " \r\n",
        "def isSafe(x, y, board):\r\n",
        "    if(x >= 0 and y >= 0 and x < n and y < n and board[x][y] == -1):\r\n",
        "        return True\r\n",
        "    return False\r\n",
        " \r\n",
        " \r\n",
        "def printSolution(n, board):\r\n",
        "    for i in range(n):\r\n",
        "        for j in range(n):\r\n",
        "            print(board[i][j], end=' ')\r\n",
        "        print()\r\n",
        " \r\n",
        " \r\n",
        "def solveKT(n):\r\n",
        "    board = [[-1 for i in range(n)]for i in range(n)]\r\n",
        "    move_x = [2, 1, -1, -2, -2, -1, 1, 2]\r\n",
        "    move_y = [1, 2, 2, 1, -1, -2, -2, -1]\r\n",
        "    board[0][0] = 0\r\n",
        "    pos = 1\r\n",
        "    if(not solveKTUtil(n, board, 0, 0, move_x, move_y, pos)):\r\n",
        "        print(\"Solution does not exist\")\r\n",
        "    else:\r\n",
        "        printSolution(n, board)\r\n",
        " \r\n",
        " \r\n",
        "def solveKTUtil(n, board, curr_x, curr_y, move_x, move_y, pos):\r\n",
        "    if(pos == n**2):\r\n",
        "        return True\r\n",
        "    for i in range(8):\r\n",
        "        new_x = curr_x + move_x[i]\r\n",
        "        new_y = curr_y + move_y[i]\r\n",
        "        if(isSafe(new_x, new_y, board)):\r\n",
        "            board[new_x][new_y] = pos\r\n",
        "            if(solveKTUtil(n, board, new_x, new_y, move_x, move_y, pos+1)):\r\n",
        "                return True\r\n",
        "            board[new_x][new_y] = -1\r\n",
        "    return False\r\n",
        " \r\n",
        " \r\n",
        "solveKT(n)"
      ],
      "execution_count": 2,
      "outputs": [
        {
          "output_type": "stream",
          "text": [
            "Ti le n =5\n",
            "0 5 14 9 20 \n",
            "13 8 19 4 15 \n",
            "18 1 6 21 10 \n",
            "7 12 23 16 3 \n",
            "24 17 2 11 22 \n"
          ],
          "name": "stdout"
        }
      ]
    }
  ]
}