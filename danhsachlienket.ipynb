{
  "nbformat": 4,
  "nbformat_minor": 0,
  "metadata": {
    "colab": {
      "name": "danhsachlienket.ipynb",
      "provenance": []
    },
    "kernelspec": {
      "name": "python3",
      "display_name": "Python 3"
    },
    "language_info": {
      "name": "python"
    }
  },
  "cells": [
    {
      "cell_type": "code",
      "metadata": {
        "colab": {
          "base_uri": "https://localhost:8080/"
        },
        "id": "sya_SlhoVt6w",
        "outputId": "3c1a0329-b9ff-447d-c3a6-21a60916c56e"
      },
      "source": [
        "def nhapDaThuc(n):\n",
        "  dathuc = []\n",
        "  for i in reversed(range((n+1))):\n",
        "    a = int(input(f\"nhap he so bac {i}:  \"))\n",
        "    dathuc.append(a)\n",
        "  return dathuc\n",
        "\n",
        "\n",
        "def bieuDienDaThuc(dathuc):\n",
        "  chuoi = \"\"\n",
        "  for (stt,i) in enumerate(reversed(dathuc)):\n",
        "    if stt == 0:\n",
        "      chuoi = str(i) + chuoi\n",
        "    else:\n",
        "      chuoi = f'{i}x^{stt} + {chuoi}'\n",
        "  print(chuoi)\n",
        "\n",
        "\n",
        "def congDaThuc(dathuc_1, dathuc_2):\n",
        "  dathuctong = []\n",
        "  chenlecbac = abs(len(dathuc_1) - len(dathuc_2))\n",
        "  if len(dathuc_1) > len(dathuc_2):\n",
        "    dathuc_2 = chenlecbac * [0] + dathuc_2\n",
        "  else:\n",
        "    if len(dathuc_2) > len(dathuc_1):\n",
        "      dathuc_1 = chenlecbac * [0] + dathuc_1\n",
        "  for stt in range(len(dathuc_1)):\n",
        "    dathuctong.append(dathuc_1[stt]+dathuc_2[stt])\n",
        "  bieuDienDaThuc(dathuctong)\n",
        "  return dathuctong\n",
        "\n",
        "n = int(input('Bac cao nhat cua A'))\n",
        "m = int(input('Bac cao nhat cua B'))\n",
        "A = nhapDaThuc(n)\n",
        "B = nhapDaThuc(m)\n",
        "\n",
        "\n",
        "bieuDienDaThuc(A)\n",
        "bieuDienDaThuc(B)\n",
        "\n",
        "\n",
        "congDaThuc(A, B)"
      ],
      "execution_count": 7,
      "outputs": [
        {
          "output_type": "stream",
          "text": [
            "Bac cao nhat cua A2\n",
            "Bac cao nhat cua B3\n",
            "nhap he so bac 2:  1\n",
            "nhap he so bac 1:  2\n",
            "nhap he so bac 0:  3\n",
            "nhap he so bac 3:  4\n",
            "nhap he so bac 2:  5\n",
            "nhap he so bac 1:  6\n",
            "nhap he so bac 0:  4\n",
            "1x^2 + 2x^1 + 3\n",
            "4x^3 + 5x^2 + 6x^1 + 4\n",
            "4x^3 + 6x^2 + 8x^1 + 7\n"
          ],
          "name": "stdout"
        },
        {
          "output_type": "execute_result",
          "data": {
            "text/plain": [
              "[4, 6, 8, 7]"
            ]
          },
          "metadata": {
            "tags": []
          },
          "execution_count": 7
        }
      ]
    }
  ]
}