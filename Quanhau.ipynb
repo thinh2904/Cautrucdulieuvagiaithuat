{
  "nbformat": 4,
  "nbformat_minor": 0,
  "metadata": {
    "colab": {
      "name": "Quanhau.ipynb",
      "provenance": []
    },
    "kernelspec": {
      "name": "python3",
      "display_name": "Python 3"
    }
  },
  "cells": [
    {
      "cell_type": "code",
      "metadata": {
        "colab": {
          "base_uri": "https://localhost:8080/",
          "height": 772
        },
        "id": "vSx3oQtg_dQb",
        "outputId": "5cd14d98-eba2-4335-ecd7-c9d3ed3ef7b9"
      },
      "source": [
        "import numpy as np\r\n",
        "import copy\r\n",
        "N=10\r\n",
        "grid=np.zeros([N,N],dtype=int)\r\n",
        "grid=grid.tolist()\r\n",
        "def possible(grid,y,x):\r\n",
        "\r\n",
        "    l=len(grid)\r\n",
        "    \r\n",
        "    for i in range(l):\r\n",
        "        if grid[y][i]==1:\r\n",
        "            return False\r\n",
        "    for i in range(l):\r\n",
        "        if grid[i][x]==1:\r\n",
        "            return False\r\n",
        "        \r\n",
        "    for i in range(l):\r\n",
        "        for j in range(l):\r\n",
        "            if grid[i][j]==1:\r\n",
        "                if abs(i - y) == abs(j - x):\r\n",
        "                    return False\r\n",
        "    return True\r\n",
        "def solve(grid):\r\n",
        "    \r\n",
        "    l=len(grid)\r\n",
        "    \r\n",
        "    for y in range(l):\r\n",
        "        for x in range(l):\r\n",
        "            if grid[y][x]==0:\r\n",
        "                if possible(grid,y,x):\r\n",
        "                    grid[y][x]=1\r\n",
        "                    solve(grid) \r\n",
        "                    if sum(sum(a) for a in grid)==l:\r\n",
        "                        return grid \r\n",
        "                    grid[y][x]=0 \r\n",
        "\r\n",
        "\r\n",
        "    return grid \r\n",
        "Solution = solve(copy.deepcopy(grid)) \r\n",
        "print(np.matrix(Solution)) \r\n",
        "def plot(grid):\r\n",
        "    import seaborn as sns\r\n",
        "    import matplotlib.pyplot as plt\r\n",
        "    import string\r\n",
        "    \r\n",
        "    l=len(grid)\r\n",
        "    Ly=list(range(1,l+1))[::-1]\r\n",
        "    ly = [str(i) for i in Ly]\r\n",
        "    Lx=list(string.ascii_uppercase)\r\n",
        "    lx=Lx[:l]\r\n",
        "    \r\n",
        "    plt.close('all')\r\n",
        "    sns.set(font_scale = 2)\r\n",
        "    plt.figure(figsize=(10,10))\r\n",
        "    ax = plt.gca() \r\n",
        "    ax.set_aspect(1)\r\n",
        "    sns.heatmap(Solution,linewidths=.8,cbar=False,linecolor='blue',\r\n",
        "                cmap='Reds',center=0.4,xticklabels=lx,yticklabels=ly)\r\n",
        "plot(grid)"
      ],
      "execution_count": 12,
      "outputs": [
        {
          "output_type": "stream",
          "text": [
            "[[1 0 0 0 0 0 0 0 0 0]\n",
            " [0 0 1 0 0 0 0 0 0 0]\n",
            " [0 0 0 0 0 1 0 0 0 0]\n",
            " [0 0 0 0 0 0 0 1 0 0]\n",
            " [0 0 0 0 0 0 0 0 0 1]\n",
            " [0 0 0 0 1 0 0 0 0 0]\n",
            " [0 0 0 0 0 0 0 0 1 0]\n",
            " [0 1 0 0 0 0 0 0 0 0]\n",
            " [0 0 0 1 0 0 0 0 0 0]\n",
            " [0 0 0 0 0 0 1 0 0 0]]\n"
          ],
          "name": "stdout"
        },
        {
          "output_type": "display_data",
          "data": {
            "image/png": "[encoded data removed]",
            "text/plain": [
              "<Figure size 720x720 with 1 Axes>"
            ]
          },
          "metadata": {
            "tags": []
          }
        }
      ]
    }
  ]
}