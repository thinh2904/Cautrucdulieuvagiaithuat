{
  "nbformat": 4,
  "nbformat_minor": 0,
  "metadata": {
    "colab": {
      "name": "Cong2dathuc.ipynb",
      "provenance": []
    },
    "kernelspec": {
      "name": "python3",
      "display_name": "Python 3"
    }
  },
  "cells": [
    {
      "cell_type": "code",
      "metadata": {
        "colab": {
          "base_uri": "https://localhost:8080/"
        },
        "id": "8Q2B8T4yIx5M",
        "outputId": "9b50ef26-6649-4c0f-e151-3a6dfa2659d6"
      },
      "source": [
        "def add(A, B, m, n):   \r\n",
        "    size = max(m, n); \r\n",
        "    sum = [0 for i in range(size)]      \r\n",
        "    for i in range(0, m, 1): \r\n",
        "        sum[i] = A[i] \r\n",
        "    for i in range(n): \r\n",
        "        sum[i] += B[i]  \r\n",
        "    return sum\r\n",
        "\r\n",
        "\r\n",
        "def printPoly(poly, n): \r\n",
        "    for i in range(n): \r\n",
        "        print(poly[i], end = \"\") \r\n",
        "        if (i != 0): \r\n",
        "            print(\"x^\", i, end = \"\") \r\n",
        "        if (i != n - 1): \r\n",
        "            print(\" + \", end = \"\") \r\n",
        "\r\n",
        "            \r\n",
        "if __name__ == '__main__': \r\n",
        "    A = [5, 0, 10, 6] \r\n",
        "    B = [1, 2, 4] \r\n",
        "    m = len(A) \r\n",
        "    n = len(B)   \r\n",
        "    print(\"Da thuc 1\") \r\n",
        "    printPoly(A, m) \r\n",
        "    print(\"\\n\", end = \"\") \r\n",
        "    print(\"Da thuc 2\") \r\n",
        "    printPoly(B, n) \r\n",
        "    print(\"\\n\", end = \"\") \r\n",
        "    sum = add(A, B, m, n) \r\n",
        "    size = max(m, n)   \r\n",
        "    print(\"Tong cua 2 da thuc\") \r\n",
        "    printPoly(sum, size) "
      ],
      "execution_count": 1,
      "outputs": [
        {
          "output_type": "stream",
          "text": [
            "Da thuc 1\n",
            "5 + 0x^ 1 + 10x^ 2 + 6x^ 3\n",
            "Da thuc 2\n",
            "1 + 2x^ 1 + 4x^ 2\n",
            "Tong cua 2 da thuc\n",
            "6 + 2x^ 1 + 14x^ 2 + 6x^ 3"
          ],
          "name": "stdout"
        }
      ]
    }
  ]
}